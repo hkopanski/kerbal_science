{
 "cells": [
  {
   "cell_type": "code",
   "execution_count": 1,
   "metadata": {},
   "outputs": [
    {
     "name": "stderr",
     "output_type": "stream",
     "text": [
      "── \u001b[1mAttaching packages\u001b[22m ─────────────────────────────────────────────────────────────────────────────────────────────────────────────────────────────── tidyverse 1.3.1 ──\n",
      "\n",
      "\u001b[32m✔\u001b[39m \u001b[34mggplot2\u001b[39m 3.3.5     \u001b[32m✔\u001b[39m \u001b[34mpurrr  \u001b[39m 0.3.4\n",
      "\u001b[32m✔\u001b[39m \u001b[34mtibble \u001b[39m 3.1.2     \u001b[32m✔\u001b[39m \u001b[34mdplyr  \u001b[39m 1.0.7\n",
      "\u001b[32m✔\u001b[39m \u001b[34mtidyr  \u001b[39m 1.1.3     \u001b[32m✔\u001b[39m \u001b[34mstringr\u001b[39m 1.4.0\n",
      "\u001b[32m✔\u001b[39m \u001b[34mreadr  \u001b[39m 1.4.0     \u001b[32m✔\u001b[39m \u001b[34mforcats\u001b[39m 0.5.1\n",
      "\n",
      "── \u001b[1mConflicts\u001b[22m ────────────────────────────────────────────────────────────────────────────────────────────────────────────────────────────────── tidyverse_conflicts() ──\n",
      "\u001b[31m✖\u001b[39m \u001b[34mdplyr\u001b[39m::\u001b[32mfilter()\u001b[39m masks \u001b[34mstats\u001b[39m::filter()\n",
      "\u001b[31m✖\u001b[39m \u001b[34mdplyr\u001b[39m::\u001b[32mlag()\u001b[39m    masks \u001b[34mstats\u001b[39m::lag()\n",
      "\n",
      "Loading required package: lattice\n",
      "\n",
      "\n",
      "Attaching package: ‘caret’\n",
      "\n",
      "\n",
      "The following object is masked from ‘package:purrr’:\n",
      "\n",
      "    lift\n",
      "\n",
      "\n"
     ]
    }
   ],
   "source": [
    "library(tidyverse)\n",
    "library(caret)"
   ]
  },
  {
   "cell_type": "code",
   "execution_count": 2,
   "metadata": {},
   "outputs": [
    {
     "name": "stderr",
     "output_type": "stream",
     "text": [
      "\n",
      "\u001b[36m──\u001b[39m \u001b[1m\u001b[1mColumn specification\u001b[1m\u001b[22m \u001b[36m────────────────────────────────────────────────────────────────────────────────────────────────────────────────────────────────────────────────\u001b[39m\n",
      "cols(\n",
      "  objid = \u001b[32mcol_double()\u001b[39m,\n",
      "  ra = \u001b[32mcol_double()\u001b[39m,\n",
      "  dec = \u001b[32mcol_double()\u001b[39m,\n",
      "  u = \u001b[32mcol_double()\u001b[39m,\n",
      "  g = \u001b[32mcol_double()\u001b[39m,\n",
      "  r = \u001b[32mcol_double()\u001b[39m,\n",
      "  i = \u001b[32mcol_double()\u001b[39m,\n",
      "  z = \u001b[32mcol_double()\u001b[39m,\n",
      "  run = \u001b[32mcol_double()\u001b[39m,\n",
      "  rerun = \u001b[32mcol_double()\u001b[39m,\n",
      "  camcol = \u001b[32mcol_double()\u001b[39m,\n",
      "  field = \u001b[32mcol_double()\u001b[39m,\n",
      "  specobjid = \u001b[32mcol_double()\u001b[39m,\n",
      "  class = \u001b[31mcol_character()\u001b[39m,\n",
      "  redshift = \u001b[32mcol_double()\u001b[39m,\n",
      "  plate = \u001b[32mcol_double()\u001b[39m,\n",
      "  mjd = \u001b[32mcol_double()\u001b[39m,\n",
      "  fiberid = \u001b[32mcol_double()\u001b[39m\n",
      ")\n",
      "\n",
      "\n"
     ]
    }
   ],
   "source": [
    "sky_data <- read_csv(\"Skyserver.csv\")"
   ]
  },
  {
   "cell_type": "code",
   "execution_count": 3,
   "metadata": {},
   "outputs": [
    {
     "data": {
      "text/html": [
       "<table class=\"dataframe\">\n",
       "<caption>A tibble: 6 × 18</caption>\n",
       "<thead>\n",
       "\t<tr><th scope=col>objid</th><th scope=col>ra</th><th scope=col>dec</th><th scope=col>u</th><th scope=col>g</th><th scope=col>r</th><th scope=col>i</th><th scope=col>z</th><th scope=col>run</th><th scope=col>rerun</th><th scope=col>camcol</th><th scope=col>field</th><th scope=col>specobjid</th><th scope=col>class</th><th scope=col>redshift</th><th scope=col>plate</th><th scope=col>mjd</th><th scope=col>fiberid</th></tr>\n",
       "\t<tr><th scope=col>&lt;dbl&gt;</th><th scope=col>&lt;dbl&gt;</th><th scope=col>&lt;dbl&gt;</th><th scope=col>&lt;dbl&gt;</th><th scope=col>&lt;dbl&gt;</th><th scope=col>&lt;dbl&gt;</th><th scope=col>&lt;dbl&gt;</th><th scope=col>&lt;dbl&gt;</th><th scope=col>&lt;dbl&gt;</th><th scope=col>&lt;dbl&gt;</th><th scope=col>&lt;dbl&gt;</th><th scope=col>&lt;dbl&gt;</th><th scope=col>&lt;dbl&gt;</th><th scope=col>&lt;chr&gt;</th><th scope=col>&lt;dbl&gt;</th><th scope=col>&lt;dbl&gt;</th><th scope=col>&lt;dbl&gt;</th><th scope=col>&lt;dbl&gt;</th></tr>\n",
       "</thead>\n",
       "<tbody>\n",
       "\t<tr><td>1.23765e+18</td><td>183.5313</td><td>0.08969303</td><td>19.47406</td><td>17.04240</td><td>15.94699</td><td>15.50342</td><td>15.22531</td><td>752</td><td>301</td><td>4</td><td>267</td><td>3.72236e+18</td><td>STAR  </td><td>-0.000008960</td><td>3306</td><td>54922</td><td>491</td></tr>\n",
       "\t<tr><td>1.23765e+18</td><td>183.5984</td><td>0.13528503</td><td>18.66280</td><td>17.21449</td><td>16.67637</td><td>16.48922</td><td>16.39150</td><td>752</td><td>301</td><td>4</td><td>267</td><td>3.63814e+17</td><td>STAR  </td><td>-0.000054900</td><td> 323</td><td>51615</td><td>541</td></tr>\n",
       "\t<tr><td>1.23765e+18</td><td>183.6802</td><td>0.12618509</td><td>19.38298</td><td>18.19169</td><td>17.47428</td><td>17.08732</td><td>16.80125</td><td>752</td><td>301</td><td>4</td><td>268</td><td>3.23274e+17</td><td>GALAXY</td><td> 0.123111200</td><td> 287</td><td>52023</td><td>513</td></tr>\n",
       "\t<tr><td>1.23765e+18</td><td>183.8705</td><td>0.04991069</td><td>17.76536</td><td>16.60272</td><td>16.16116</td><td>15.98233</td><td>15.90438</td><td>752</td><td>301</td><td>4</td><td>269</td><td>3.72237e+18</td><td>STAR  </td><td>-0.000110616</td><td>3306</td><td>54922</td><td>510</td></tr>\n",
       "\t<tr><td>1.23765e+18</td><td>183.8833</td><td>0.10255675</td><td>17.55025</td><td>16.26342</td><td>16.43869</td><td>16.55492</td><td>16.61326</td><td>752</td><td>301</td><td>4</td><td>269</td><td>3.72237e+18</td><td>STAR  </td><td> 0.000590357</td><td>3306</td><td>54922</td><td>512</td></tr>\n",
       "\t<tr><td>1.23765e+18</td><td>183.8472</td><td>0.17369416</td><td>19.43133</td><td>18.46779</td><td>18.16451</td><td>18.01475</td><td>18.04155</td><td>752</td><td>301</td><td>4</td><td>269</td><td>3.64955e+17</td><td>STAR  </td><td> 0.000314603</td><td> 324</td><td>51666</td><td>594</td></tr>\n",
       "</tbody>\n",
       "</table>\n"
      ],
      "text/latex": [
       "A tibble: 6 × 18\n",
       "\\begin{tabular}{llllllllllllllllll}\n",
       " objid & ra & dec & u & g & r & i & z & run & rerun & camcol & field & specobjid & class & redshift & plate & mjd & fiberid\\\\\n",
       " <dbl> & <dbl> & <dbl> & <dbl> & <dbl> & <dbl> & <dbl> & <dbl> & <dbl> & <dbl> & <dbl> & <dbl> & <dbl> & <chr> & <dbl> & <dbl> & <dbl> & <dbl>\\\\\n",
       "\\hline\n",
       "\t 1.23765e+18 & 183.5313 & 0.08969303 & 19.47406 & 17.04240 & 15.94699 & 15.50342 & 15.22531 & 752 & 301 & 4 & 267 & 3.72236e+18 & STAR   & -0.000008960 & 3306 & 54922 & 491\\\\\n",
       "\t 1.23765e+18 & 183.5984 & 0.13528503 & 18.66280 & 17.21449 & 16.67637 & 16.48922 & 16.39150 & 752 & 301 & 4 & 267 & 3.63814e+17 & STAR   & -0.000054900 &  323 & 51615 & 541\\\\\n",
       "\t 1.23765e+18 & 183.6802 & 0.12618509 & 19.38298 & 18.19169 & 17.47428 & 17.08732 & 16.80125 & 752 & 301 & 4 & 268 & 3.23274e+17 & GALAXY &  0.123111200 &  287 & 52023 & 513\\\\\n",
       "\t 1.23765e+18 & 183.8705 & 0.04991069 & 17.76536 & 16.60272 & 16.16116 & 15.98233 & 15.90438 & 752 & 301 & 4 & 269 & 3.72237e+18 & STAR   & -0.000110616 & 3306 & 54922 & 510\\\\\n",
       "\t 1.23765e+18 & 183.8833 & 0.10255675 & 17.55025 & 16.26342 & 16.43869 & 16.55492 & 16.61326 & 752 & 301 & 4 & 269 & 3.72237e+18 & STAR   &  0.000590357 & 3306 & 54922 & 512\\\\\n",
       "\t 1.23765e+18 & 183.8472 & 0.17369416 & 19.43133 & 18.46779 & 18.16451 & 18.01475 & 18.04155 & 752 & 301 & 4 & 269 & 3.64955e+17 & STAR   &  0.000314603 &  324 & 51666 & 594\\\\\n",
       "\\end{tabular}\n"
      ],
      "text/markdown": [
       "\n",
       "A tibble: 6 × 18\n",
       "\n",
       "| objid &lt;dbl&gt; | ra &lt;dbl&gt; | dec &lt;dbl&gt; | u &lt;dbl&gt; | g &lt;dbl&gt; | r &lt;dbl&gt; | i &lt;dbl&gt; | z &lt;dbl&gt; | run &lt;dbl&gt; | rerun &lt;dbl&gt; | camcol &lt;dbl&gt; | field &lt;dbl&gt; | specobjid &lt;dbl&gt; | class &lt;chr&gt; | redshift &lt;dbl&gt; | plate &lt;dbl&gt; | mjd &lt;dbl&gt; | fiberid &lt;dbl&gt; |\n",
       "|---|---|---|---|---|---|---|---|---|---|---|---|---|---|---|---|---|---|\n",
       "| 1.23765e+18 | 183.5313 | 0.08969303 | 19.47406 | 17.04240 | 15.94699 | 15.50342 | 15.22531 | 752 | 301 | 4 | 267 | 3.72236e+18 | STAR   | -0.000008960 | 3306 | 54922 | 491 |\n",
       "| 1.23765e+18 | 183.5984 | 0.13528503 | 18.66280 | 17.21449 | 16.67637 | 16.48922 | 16.39150 | 752 | 301 | 4 | 267 | 3.63814e+17 | STAR   | -0.000054900 |  323 | 51615 | 541 |\n",
       "| 1.23765e+18 | 183.6802 | 0.12618509 | 19.38298 | 18.19169 | 17.47428 | 17.08732 | 16.80125 | 752 | 301 | 4 | 268 | 3.23274e+17 | GALAXY |  0.123111200 |  287 | 52023 | 513 |\n",
       "| 1.23765e+18 | 183.8705 | 0.04991069 | 17.76536 | 16.60272 | 16.16116 | 15.98233 | 15.90438 | 752 | 301 | 4 | 269 | 3.72237e+18 | STAR   | -0.000110616 | 3306 | 54922 | 510 |\n",
       "| 1.23765e+18 | 183.8833 | 0.10255675 | 17.55025 | 16.26342 | 16.43869 | 16.55492 | 16.61326 | 752 | 301 | 4 | 269 | 3.72237e+18 | STAR   |  0.000590357 | 3306 | 54922 | 512 |\n",
       "| 1.23765e+18 | 183.8472 | 0.17369416 | 19.43133 | 18.46779 | 18.16451 | 18.01475 | 18.04155 | 752 | 301 | 4 | 269 | 3.64955e+17 | STAR   |  0.000314603 |  324 | 51666 | 594 |\n",
       "\n"
      ],
      "text/plain": [
       "  objid       ra       dec        u        g        r        i        z       \n",
       "1 1.23765e+18 183.5313 0.08969303 19.47406 17.04240 15.94699 15.50342 15.22531\n",
       "2 1.23765e+18 183.5984 0.13528503 18.66280 17.21449 16.67637 16.48922 16.39150\n",
       "3 1.23765e+18 183.6802 0.12618509 19.38298 18.19169 17.47428 17.08732 16.80125\n",
       "4 1.23765e+18 183.8705 0.04991069 17.76536 16.60272 16.16116 15.98233 15.90438\n",
       "5 1.23765e+18 183.8833 0.10255675 17.55025 16.26342 16.43869 16.55492 16.61326\n",
       "6 1.23765e+18 183.8472 0.17369416 19.43133 18.46779 18.16451 18.01475 18.04155\n",
       "  run rerun camcol field specobjid   class  redshift     plate mjd   fiberid\n",
       "1 752 301   4      267   3.72236e+18 STAR   -0.000008960 3306  54922 491    \n",
       "2 752 301   4      267   3.63814e+17 STAR   -0.000054900  323  51615 541    \n",
       "3 752 301   4      268   3.23274e+17 GALAXY  0.123111200  287  52023 513    \n",
       "4 752 301   4      269   3.72237e+18 STAR   -0.000110616 3306  54922 510    \n",
       "5 752 301   4      269   3.72237e+18 STAR    0.000590357 3306  54922 512    \n",
       "6 752 301   4      269   3.64955e+17 STAR    0.000314603  324  51666 594    "
      ]
     },
     "metadata": {},
     "output_type": "display_data"
    },
    {
     "data": {
      "text/plain": [
       "     objid                 ra               dec                u        \n",
       " Min.   :1.238e+18   Min.   :  8.235   Min.   :-5.3826   Min.   :12.99  \n",
       " 1st Qu.:1.238e+18   1st Qu.:157.371   1st Qu.:-0.5390   1st Qu.:18.18  \n",
       " Median :1.238e+18   Median :180.395   Median : 0.4042   Median :18.85  \n",
       " Mean   :1.238e+18   Mean   :175.530   Mean   :14.8361   Mean   :18.62  \n",
       " 3rd Qu.:1.238e+18   3rd Qu.:201.547   3rd Qu.:35.6494   3rd Qu.:19.26  \n",
       " Max.   :1.238e+18   Max.   :260.884   Max.   :68.5423   Max.   :19.60  \n",
       "       g               r               i               z              run      \n",
       " Min.   :12.80   Min.   :12.43   Min.   :11.95   Min.   :11.61   Min.   : 308  \n",
       " 1st Qu.:16.82   1st Qu.:16.17   1st Qu.:15.85   1st Qu.:15.62   1st Qu.: 752  \n",
       " Median :17.50   Median :16.86   Median :16.55   Median :16.39   Median : 756  \n",
       " Mean   :17.37   Mean   :16.84   Mean   :16.58   Mean   :16.42   Mean   : 981  \n",
       " 3rd Qu.:18.01   3rd Qu.:17.51   3rd Qu.:17.26   3rd Qu.:17.14   3rd Qu.:1331  \n",
       " Max.   :19.92   Max.   :24.80   Max.   :28.18   Max.   :22.83   Max.   :1412  \n",
       "     rerun         camcol          field         specobjid        \n",
       " Min.   :301   Min.   :1.000   Min.   : 11.0   Min.   :2.996e+17  \n",
       " 1st Qu.:301   1st Qu.:2.000   1st Qu.:184.0   1st Qu.:3.389e+17  \n",
       " Median :301   Median :4.000   Median :299.0   Median :4.967e+17  \n",
       " Mean   :301   Mean   :3.649   Mean   :302.4   Mean   :1.645e+18  \n",
       " 3rd Qu.:301   3rd Qu.:5.000   3rd Qu.:414.0   3rd Qu.:2.881e+18  \n",
       " Max.   :301   Max.   :6.000   Max.   :768.0   Max.   :9.469e+18  \n",
       "    class              redshift             plate           mjd       \n",
       " Length:10000       Min.   :-0.004136   Min.   : 266   Min.   :51578  \n",
       " Class :character   1st Qu.: 0.000081   1st Qu.: 301   1st Qu.:51900  \n",
       " Mode  :character   Median : 0.042591   Median : 441   Median :51997  \n",
       "                    Mean   : 0.143726   Mean   :1461   Mean   :52944  \n",
       "                    3rd Qu.: 0.092579   3rd Qu.:2559   3rd Qu.:54468  \n",
       "                    Max.   : 5.353854   Max.   :8410   Max.   :57481  \n",
       "    fiberid      \n",
       " Min.   :   1.0  \n",
       " 1st Qu.: 186.8  \n",
       " Median : 351.0  \n",
       " Mean   : 353.1  \n",
       " 3rd Qu.: 510.0  \n",
       " Max.   :1000.0  "
      ]
     },
     "metadata": {},
     "output_type": "display_data"
    }
   ],
   "source": [
    "sky_data %>% head()\n",
    "sky_data %>% summary()"
   ]
  },
  {
   "cell_type": "code",
   "execution_count": 4,
   "metadata": {},
   "outputs": [
    {
     "data": {
      "text/html": [
       "4152"
      ],
      "text/latex": [
       "4152"
      ],
      "text/markdown": [
       "4152"
      ],
      "text/plain": [
       "[1] 4152"
      ]
     },
     "metadata": {},
     "output_type": "display_data"
    }
   ],
   "source": [
    "sky_data %>% filter(class == \"STAR\") %>% nrow()"
   ]
  },
  {
   "cell_type": "code",
   "execution_count": 5,
   "metadata": {},
   "outputs": [
    {
     "data": {
      "text/html": [
       "<style>\n",
       ".list-inline {list-style: none; margin:0; padding: 0}\n",
       ".list-inline>li {display: inline-block}\n",
       ".list-inline>li:not(:last-child)::after {content: \"\\00b7\"; padding: 0 .5ex}\n",
       "</style>\n",
       "<ol class=list-inline><li>'STAR'</li><li>'GALAXY'</li><li>'QSO'</li></ol>\n"
      ],
      "text/latex": [
       "\\begin{enumerate*}\n",
       "\\item 'STAR'\n",
       "\\item 'GALAXY'\n",
       "\\item 'QSO'\n",
       "\\end{enumerate*}\n"
      ],
      "text/markdown": [
       "1. 'STAR'\n",
       "2. 'GALAXY'\n",
       "3. 'QSO'\n",
       "\n",
       "\n"
      ],
      "text/plain": [
       "[1] \"STAR\"   \"GALAXY\" \"QSO\"   "
      ]
     },
     "metadata": {},
     "output_type": "display_data"
    }
   ],
   "source": [
    "unique(sky_data$class)"
   ]
  },
  {
   "cell_type": "code",
   "execution_count": 6,
   "metadata": {},
   "outputs": [
    {
     "name": "stdout",
     "output_type": "stream",
     "text": [
      "tibble [5,000 × 18] (S3: tbl_df/tbl/data.frame)\n",
      " $ objid    : num [1:5000] 1.24e+18 1.24e+18 1.24e+18 1.24e+18 1.24e+18 ...\n",
      " $ ra       : num [1:5000] 149.3 184.7 182.5 166.2 16.1 ...\n",
      " $ dec      : num [1:5000] 0.22 -0.376 -3.531 0.283 14.504 ...\n",
      " $ u        : num [1:5000] 18.4 18.9 19.3 17.8 18 ...\n",
      " $ g        : num [1:5000] 17 18.8 18.1 16.9 16.1 ...\n",
      " $ r        : num [1:5000] 16.4 18.6 17.5 16.6 15.2 ...\n",
      " $ i        : num [1:5000] 16.1 18.4 17.2 16.5 14.8 ...\n",
      " $ z        : num [1:5000] 15.9 18.3 17 16.4 14.5 ...\n",
      " $ run      : num [1:5000] 756 752 1140 756 1035 ...\n",
      " $ rerun    : num [1:5000] 301 301 301 301 301 301 301 301 301 301 ...\n",
      " $ camcol   : num [1:5000] 4 3 1 4 3 3 6 2 4 1 ...\n",
      " $ field    : num [1:5000] 224 275 197 336 69 333 34 481 213 357 ...\n",
      " $ specobjid: num [1:5000] 3.23e+18 3.24e+17 3.74e+17 4.32e+18 4.74e+17 ...\n",
      " $ class    : chr [1:5000] \"STAR\" \"QSO\" \"GALAXY\" \"STAR\" ...\n",
      " $ redshift : num [1:5000] 0.000102 1.516544 0.099229 0.00058 0.040923 ...\n",
      " $ plate    : num [1:5000] 2867 288 332 3836 421 ...\n",
      " $ mjd      : num [1:5000] 54479 52000 52367 55302 51821 ...\n",
      " $ fiberid  : num [1:5000] 428 195 206 940 75 178 127 34 551 88 ...\n"
     ]
    }
   ],
   "source": [
    "set.seed(1)\n",
    "training <-sample(1:nrow(sky_data), size = nrow(sky_data) * 0.5)\n",
    "testing <- dplyr::setdiff(1:nrow(sky_data), training)\n",
    "skyTrain <- sky_data[training, ]\n",
    "skyTest <- sky_data[testing, ]\n",
    "\n",
    "str(skyTrain)\n",
    "# Predictor information here https://www.sdss.org/dr12/algorithms/magnitudes/"
   ]
  },
  {
   "cell_type": "code",
   "execution_count": 7,
   "metadata": {},
   "outputs": [],
   "source": [
    "trctrl <- trainControl(method = \"repeatedcv\", \n",
    "                       number = 10, \n",
    "                       repeats = 3)\n",
    "\n",
    "set.seed(2020)\n",
    "\n",
    "# Using the argument tuneGrid, we will train models using k values of 2 to 30. \n",
    "# The data will be standardized using the preprocess argument.\n",
    "# For this case, we will only use the predictors age and fare.\n",
    "\n",
    "knn_fit1 <- train(class ~ u + g + r + i + z, \n",
    "                 data = skyTrain,\n",
    "                 method = \"knn\", \n",
    "                 trControl = trctrl, \n",
    "                 preProcess = c(\"center\", \"scale\"), \n",
    "                 tuneGrid = data.frame(k = 2:30))"
   ]
  },
  {
   "cell_type": "code",
   "execution_count": 8,
   "metadata": {},
   "outputs": [
    {
     "data": {
      "text/plain": [
       "k-Nearest Neighbors \n",
       "\n",
       "5000 samples\n",
       "   5 predictor\n",
       "   3 classes: 'GALAXY', 'QSO', 'STAR' \n",
       "\n",
       "Pre-processing: centered (5), scaled (5) \n",
       "Resampling: Cross-Validated (10 fold, repeated 3 times) \n",
       "Summary of sample sizes: 4500, 4499, 4500, 4501, 4500, 4499, ... \n",
       "Resampling results across tuning parameters:\n",
       "\n",
       "  k   Accuracy   Kappa    \n",
       "   2  0.9066052  0.8355256\n",
       "   3  0.9185325  0.8566090\n",
       "   4  0.9127990  0.8465682\n",
       "   5  0.9139338  0.8486365\n",
       "   6  0.9097969  0.8413250\n",
       "   7  0.9085980  0.8392413\n",
       "   8  0.9042636  0.8316272\n",
       "   9  0.9028653  0.8291616\n",
       "  10  0.9000640  0.8242688\n",
       "  11  0.8997314  0.8236574\n",
       "  12  0.8965314  0.8179944\n",
       "  13  0.8971312  0.8190863\n",
       "  14  0.8957319  0.8166141\n",
       "  15  0.8931979  0.8121594\n",
       "  16  0.8923310  0.8105921\n",
       "  17  0.8909323  0.8081171\n",
       "  18  0.8897981  0.8061751\n",
       "  19  0.8880627  0.8030073\n",
       "  20  0.8853274  0.7982269\n",
       "  21  0.8845963  0.7969479\n",
       "  22  0.8823307  0.7929797\n",
       "  23  0.8811315  0.7908585\n",
       "  24  0.8797322  0.7883771\n",
       "  25  0.8785318  0.7862602\n",
       "  26  0.8761973  0.7821364\n",
       "  27  0.8743975  0.7789452\n",
       "  28  0.8741304  0.7783987\n",
       "  29  0.8732636  0.7768534\n",
       "  30  0.8729972  0.7763619\n",
       "\n",
       "Accuracy was used to select the optimal model using the largest value.\n",
       "The final value used for the model was k = 3."
      ]
     },
     "metadata": {},
     "output_type": "display_data"
    }
   ],
   "source": [
    "knn_fit1"
   ]
  },
  {
   "cell_type": "code",
   "execution_count": 9,
   "metadata": {},
   "outputs": [
    {
     "name": "stdout",
     "output_type": "stream",
     "text": [
      "[1] 0.081\n"
     ]
    }
   ],
   "source": [
    "knn_pred1 <- predict(knn_fit1, newdata = skyTest)\n",
    "print(sum(knn_pred1 != skyTest$class)/nrow(skyTest))"
   ]
  },
  {
   "cell_type": "code",
   "execution_count": null,
   "metadata": {},
   "outputs": [],
   "source": []
  }
 ],
 "metadata": {
  "kernelspec": {
   "display_name": "R",
   "language": "R",
   "name": "ir"
  },
  "language_info": {
   "codemirror_mode": "r",
   "file_extension": ".r",
   "mimetype": "text/x-r-source",
   "name": "R",
   "pygments_lexer": "r",
   "version": "4.1.0"
  }
 },
 "nbformat": 4,
 "nbformat_minor": 5
}
